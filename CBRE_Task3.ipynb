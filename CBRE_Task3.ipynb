{
  "nbformat": 4,
  "nbformat_minor": 0,
  "metadata": {
    "colab": {
      "provenance": [],
      "authorship_tag": "ABX9TyM1AeJnMgdkEW5q3vfdXXnR",
      "include_colab_link": true
    },
    "kernelspec": {
      "name": "python3",
      "display_name": "Python 3"
    },
    "language_info": {
      "name": "python"
    }
  },
  "cells": [
    {
      "cell_type": "markdown",
      "metadata": {
        "id": "view-in-github",
        "colab_type": "text"
      },
      "source": [
        "<a href=\"https://colab.research.google.com/github/hanubv/CBRE_test/blob/main/CBRE_Task3.ipynb\" target=\"_parent\"><img src=\"https://colab.research.google.com/assets/colab-badge.svg\" alt=\"Open In Colab\"/></a>"
      ]
    },
    {
      "cell_type": "code",
      "source": [
        "morse_encode_table = {\n",
        "    \"A\": \".-\",\n",
        "    \"B\": \"-...\",\n",
        "    \"C\": \"-.-.\",\n",
        "    \"D\": \"-..\",\n",
        "    \"E\": \".\",\n",
        "    \"F\": \"..-.\",\n",
        "    \"G\": \"--.\",\n",
        "    \"H\": \"....\",\n",
        "    \"I\": \"..\",\n",
        "    \"J\": \".---\",\n",
        "    \"K\": \"-.-\",\n",
        "    \"L\": \".-..\",\n",
        "    \"M\": \"--\",\n",
        "    \"N\": \"-.\",\n",
        "    \"O\": \"---\",\n",
        "    \"P\": \".--.\",\n",
        "    \"Q\": \"--.-\",\n",
        "    \"R\": \".-.\",\n",
        "    \"S\": \"...\",\n",
        "    \"T\": \"-\",\n",
        "    \"U\": \"..-\",\n",
        "    \"V\": \"...-\",\n",
        "    \"W\": \".--\",\n",
        "    \"X\": \"-..-\",\n",
        "    \"Y\": \"-.--\",\n",
        "    \"Z\": \"--..\",\n",
        "    \"0\": \"-----\",\n",
        "    \"1\": \".----\",\n",
        "    \"2\": \"..---\",\n",
        "    \"3\": \"...--\",\n",
        "    \"4\": \"....-\",\n",
        "    \"5\": \".....\",\n",
        "    \"6\": \"-....\",\n",
        "    \"7\": \"--...\",\n",
        "    \"8\": \"---..\",\n",
        "    \"9\": \"----.\",\n",
        "    \".\": \".-.-.-\",\n",
        "    \",\": \"--..--\",\n",
        "    \"?\": \"..--..\",\n",
        "    \" \": \"SPACE\",\n",
        "}"
      ],
      "metadata": {
        "id": "u4tcdTyQHiBv"
      },
      "execution_count": 14,
      "outputs": []
    },
    {
      "cell_type": "code",
      "source": [
        "decode_table = {v: k for k, v in morse_encode_table.items()}"
      ],
      "metadata": {
        "id": "7vUYwHGaHnz5"
      },
      "execution_count": 15,
      "outputs": []
    },
    {
      "cell_type": "code",
      "source": [
        "def decoder(input_text):\n",
        "    symbols = input_text.replace(\"   \", \" SPACE \").split(\" \")\n",
        "    return \"\".join(decode_table[x] for x in symbols)"
      ],
      "metadata": {
        "id": "dJsQW4D1Hq6q"
      },
      "execution_count": 16,
      "outputs": []
    },
    {
      "cell_type": "code",
      "source": [
        "decoder('.- -   -.. .- .-- -.   .-.. --- --- -.-   - ---   - .... .   . .- ... -')"
      ],
      "metadata": {
        "colab": {
          "base_uri": "https://localhost:8080/",
          "height": 36
        },
        "id": "5TuhWCwIH1zr",
        "outputId": "f9b2f3c6-e1ed-4497-e907-d0fb418284ca"
      },
      "execution_count": 17,
      "outputs": [
        {
          "output_type": "execute_result",
          "data": {
            "text/plain": [
              "'AT DAWN LOOK TO THE EAST'"
            ],
            "application/vnd.google.colaboratory.intrinsic+json": {
              "type": "string"
            }
          },
          "metadata": {},
          "execution_count": 17
        }
      ]
    }
  ]
}