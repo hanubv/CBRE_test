{
  "nbformat": 4,
  "nbformat_minor": 0,
  "metadata": {
    "colab": {
      "provenance": [],
      "authorship_tag": "ABX9TyNRz+CEVSx11Hb0NUmW2p8l",
      "include_colab_link": true
    },
    "kernelspec": {
      "name": "python3",
      "display_name": "Python 3"
    },
    "language_info": {
      "name": "python"
    }
  },
  "cells": [
    {
      "cell_type": "markdown",
      "metadata": {
        "id": "view-in-github",
        "colab_type": "text"
      },
      "source": [
        "<a href=\"https://colab.research.google.com/github/hanubv/CBRE_test/blob/main/CBRE_Task4.ipynb\" target=\"_parent\"><img src=\"https://colab.research.google.com/assets/colab-badge.svg\" alt=\"Open In Colab\"/></a>"
      ]
    },
    {
      "cell_type": "code",
      "execution_count": 3,
      "metadata": {
        "colab": {
          "base_uri": "https://localhost:8080/"
        },
        "id": "ZQwPcOUDJzuR",
        "outputId": "8948c258-4caf-4a13-e9da-ea3474cb731b"
      },
      "outputs": [
        {
          "output_type": "stream",
          "name": "stdout",
          "text": [
            "['AT', 'DAWN', 'LOOK', 'TO', 'THE', 'EAST']\n"
          ]
        }
      ],
      "source": [
        "text = \"AT DAWN LOOK TO THE EAST\"\n",
        "text_words = text.split()\n",
        "print(text_words)"
      ]
    },
    {
      "cell_type": "code",
      "source": [
        "modified_list = []\n",
        "for word in text_words:\n",
        "  if len(word)>=4:\n",
        "    word = word[::-1]\n",
        "    modified_list.append(word)\n",
        "  else:\n",
        "    modified_list.append(word)\n",
        "\n",
        "print(modified_list)"
      ],
      "metadata": {
        "colab": {
          "base_uri": "https://localhost:8080/"
        },
        "id": "Og-FDvngKD3z",
        "outputId": "7541203a-43db-4630-e2d7-45decfbc2dd1"
      },
      "execution_count": 5,
      "outputs": [
        {
          "output_type": "stream",
          "name": "stdout",
          "text": [
            "['AT', 'NWAD', 'KOOL', 'TO', 'THE', 'TSAE']\n"
          ]
        }
      ]
    },
    {
      "cell_type": "code",
      "source": [
        "for word in modified_list:\n",
        "  print(f\"{word}\", end=\" \")"
      ],
      "metadata": {
        "colab": {
          "base_uri": "https://localhost:8080/"
        },
        "id": "uW9xQrc7K3i9",
        "outputId": "f7a03341-89f7-4030-d3aa-9f99aec09cf3"
      },
      "execution_count": 7,
      "outputs": [
        {
          "output_type": "stream",
          "name": "stdout",
          "text": [
            "AT NWAD KOOL TO THE TSAE "
          ]
        }
      ]
    },
    {
      "cell_type": "code",
      "source": [],
      "metadata": {
        "id": "LHvGZlWhLJcl"
      },
      "execution_count": null,
      "outputs": []
    }
  ]
}